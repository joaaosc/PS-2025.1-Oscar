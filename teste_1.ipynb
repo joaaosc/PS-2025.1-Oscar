{
 "cells": [
  {
   "cell_type": "markdown",
   "id": "c0c48283",
   "metadata": {},
   "source": [
    "# Pré-processamento sem as 'Defesas Difíceis'"
   ]
  },
  {
   "cell_type": "markdown",
   "id": "f3ea29d6",
   "metadata": {},
   "source": [
    "# Treinamento"
   ]
  },
  {
   "cell_type": "markdown",
   "id": "81222e1e",
   "metadata": {},
   "source": []
  }
 ],
 "metadata": {
  "language_info": {
   "name": "python"
  }
 },
 "nbformat": 4,
 "nbformat_minor": 5
}
